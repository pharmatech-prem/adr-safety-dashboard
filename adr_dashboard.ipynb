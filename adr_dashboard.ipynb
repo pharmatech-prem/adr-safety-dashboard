{
 "cells": [
  {
   "cell_type": "code",
   "execution_count": null,
   "id": "9dbe6479-e2d0-40b3-81ec-fb393d428685",
   "metadata": {},
   "outputs": [],
   "source": [
    "# ADR Safety Dashboard - Starter\n",
    "\n",
    "import pandas as pd\n",
    "import matplotlib.pyplot as plt\n",
    "import seaborn as sns\n",
    "\n",
    "# Load dataset\n",
    "df = pd.read_csv('adr_data.csv')  # Make sure this file is saved in same folder\n",
    "\n",
    "# Preview data\n",
    "print(\"Preview of data:\")\n",
    "print(df.head())\n",
    "\n",
    "# Count of ADRs by Drug\n",
    "adr_count = df['Drug'].value_counts()\n",
    "\n",
    "# Visualization\n",
    "plt.figure(figsize=(8,6))\n",
    "sns.countplot(data=df, x='Drug', order=df['Drug'].value_counts().index)\n",
    "plt.title(\"Number of ADRs Reported per Drug\")\n",
    "plt.ylabel(\"Count of ADRs\")\n",
    "plt.xlabel(\"Drug Name\")\n",
    "plt.xticks(rotation=45)\n",
    "plt.tight_layout()\n",
    "plt.show()\n"
   ]
  },
  {
   "cell_type": "code",
   "execution_count": null,
   "id": "a462505a-914a-4878-87bf-71565a4d0692",
   "metadata": {},
   "outputs": [],
   "source": []
  }
 ],
 "metadata": {
  "kernelspec": {
   "display_name": "Python [conda env:base] *",
   "language": "python",
   "name": "conda-base-py"
  },
  "language_info": {
   "codemirror_mode": {
    "name": "ipython",
    "version": 3
   },
   "file_extension": ".py",
   "mimetype": "text/x-python",
   "name": "python",
   "nbconvert_exporter": "python",
   "pygments_lexer": "ipython3",
   "version": "3.13.5"
  }
 },
 "nbformat": 4,
 "nbformat_minor": 5
}
